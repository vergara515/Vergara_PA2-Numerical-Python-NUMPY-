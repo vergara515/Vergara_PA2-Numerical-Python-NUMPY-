{
 "cells": [
  {
   "cell_type": "markdown",
   "id": "500db8a1-8fb5-4ced-a15a-be92c934629f",
   "metadata": {},
   "source": [
    "Normalization Problem"
   ]
  },
  {
   "cell_type": "code",
   "execution_count": 55,
   "id": "5f2e039e-50d9-4761-8f88-2d0da3363e05",
   "metadata": {},
   "outputs": [],
   "source": [
    "#import from library the usage of np to shorten numpy\n",
    "import numpy as np"
   ]
  },
  {
   "cell_type": "code",
   "execution_count": 57,
   "id": "ecd9c7b6-2ab7-4185-9254-7b228b223692",
   "metadata": {},
   "outputs": [],
   "source": [
    "#create random 5x5 ndarray and store to variable X\n",
    "X = np.random.random((5,5))"
   ]
  },
  {
   "cell_type": "code",
   "execution_count": 59,
   "id": "133cbc25-18cb-40d1-99e2-febb30c474ba",
   "metadata": {},
   "outputs": [],
   "source": [
    "#centering and scaling\n",
    "X_mean = X.mean()\n",
    "X_std = X.std ()\n",
    "X_normalized = (X - X_mean) / X_std"
   ]
  },
  {
   "cell_type": "code",
   "execution_count": 61,
   "id": "c644b742-ccd2-4ae0-a4d3-3274a0100203",
   "metadata": {},
   "outputs": [],
   "source": [
    "#saving normalized ndarray as X_normalized.npy\n",
    "np.save('X_normalized.npy', X_normalized)"
   ]
  },
  {
   "cell_type": "code",
   "execution_count": 63,
   "id": "3700419b-a488-45ca-90a8-00628bbcec8f",
   "metadata": {},
   "outputs": [
    {
     "name": "stdout",
     "output_type": "stream",
     "text": [
      "X: \n",
      " [[0.80040672 0.32973291 0.18179031 0.15693766 0.77114793]\n",
      " [0.34888678 0.86430687 0.97035271 0.72040093 0.90434004]\n",
      " [0.80778366 0.12342295 0.15056592 0.13134584 0.98185714]\n",
      " [0.53895031 0.99183769 0.94044478 0.10173214 0.70106968]\n",
      " [0.16999023 0.29194855 0.69608408 0.05296093 0.2050129 ]] \n",
      "\n",
      "X_normalized: \n",
      " [[ 0.84079456 -0.55721271 -0.99663559 -1.07045356  0.75388937]\n",
      " [-0.50032142  1.03059242  1.34557245  0.60315934  1.14949995]\n",
      " [ 0.86270573 -1.16999978 -1.08937905 -1.14646703  1.37974319]\n",
      " [ 0.06421011  1.40938767  1.25673915 -1.23442638  0.54574116]\n",
      " [-1.03168446 -0.66944078  0.5309328  -1.37928787 -0.92765927]]\n"
     ]
    }
   ],
   "source": [
    "#printing output for X and X_normalized\n",
    "print(\"X: \\n\", X, \"\\n\")\n",
    "print(\"X_normalized: \\n\", X_normalized)"
   ]
  },
  {
   "cell_type": "markdown",
   "id": "4903f897-136b-407b-b5ea-ae6b2ee66a56",
   "metadata": {},
   "source": [
    "Divisible by 3 Problem"
   ]
  },
  {
   "cell_type": "code",
   "execution_count": 65,
   "id": "68614757-b6e2-400a-be88-69da10cf9031",
   "metadata": {},
   "outputs": [],
   "source": [
    "#import from library the usage of np to shorten numpy\n",
    "import numpy as np"
   ]
  },
  {
   "cell_type": "code",
   "execution_count": 111,
   "id": "6629f3d6-d82e-406e-a73c-64d754b03722",
   "metadata": {},
   "outputs": [],
   "source": [
    "#create 10x10 ndarray which are the squares of the first 100 positive integers\n",
    "A = np.arange(1,101).reshape(10,10) ** 2"
   ]
  },
  {
   "cell_type": "code",
   "execution_count": 103,
   "id": "4a5dc5b0-3f7e-4ce5-a433-8073d0c1a123",
   "metadata": {},
   "outputs": [],
   "source": [
    "#determining elements that are divisiable by 3\n",
    "div_by_3 = A[A % 3 == 0].reshape(3,11)"
   ]
  },
  {
   "cell_type": "code",
   "execution_count": 93,
   "id": "bc086443-5118-48f8-88f5-8b660b8a6c4e",
   "metadata": {},
   "outputs": [],
   "source": [
    "#saving result as div_by_3.npy\n",
    "np.save('div_by_3.npy', div_by_3)"
   ]
  },
  {
   "cell_type": "code",
   "execution_count": 105,
   "id": "f87aac37-8413-4b03-b87a-99c2b50e6ae5",
   "metadata": {},
   "outputs": [
    {
     "name": "stdout",
     "output_type": "stream",
     "text": [
      "A: \n",
      " [[    1     4     9    16    25    36    49    64    81   100]\n",
      " [  121   144   169   196   225   256   289   324   361   400]\n",
      " [  441   484   529   576   625   676   729   784   841   900]\n",
      " [  961  1024  1089  1156  1225  1296  1369  1444  1521  1600]\n",
      " [ 1681  1764  1849  1936  2025  2116  2209  2304  2401  2500]\n",
      " [ 2601  2704  2809  2916  3025  3136  3249  3364  3481  3600]\n",
      " [ 3721  3844  3969  4096  4225  4356  4489  4624  4761  4900]\n",
      " [ 5041  5184  5329  5476  5625  5776  5929  6084  6241  6400]\n",
      " [ 6561  6724  6889  7056  7225  7396  7569  7744  7921  8100]\n",
      " [ 8281  8464  8649  8836  9025  9216  9409  9604  9801 10000]] \n",
      "\n",
      "div_by_3: \n",
      " [[   9   36   81  144  225  324  441  576  729  900 1089]\n",
      " [1296 1521 1764 2025 2304 2601 2916 3249 3600 3969 4356]\n",
      " [4761 5184 5625 6084 6561 7056 7569 8100 8649 9216 9801]]\n"
     ]
    }
   ],
   "source": [
    "#print output for A and div_by_3\n",
    "print(\"A: \\n\", A, \"\\n\")\n",
    "print(\"div_by_3: \\n\", div_by_3)"
   ]
  }
 ],
 "metadata": {
  "kernelspec": {
   "display_name": "Python 3 (ipykernel)",
   "language": "python",
   "name": "python3"
  },
  "language_info": {
   "codemirror_mode": {
    "name": "ipython",
    "version": 3
   },
   "file_extension": ".py",
   "mimetype": "text/x-python",
   "name": "python",
   "nbconvert_exporter": "python",
   "pygments_lexer": "ipython3",
   "version": "3.12.4"
  }
 },
 "nbformat": 4,
 "nbformat_minor": 5
}
