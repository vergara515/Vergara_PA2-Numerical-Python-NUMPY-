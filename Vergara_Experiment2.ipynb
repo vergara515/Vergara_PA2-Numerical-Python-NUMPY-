{
 "cells": [
  {
   "cell_type": "markdown",
   "id": "500db8a1-8fb5-4ced-a15a-be92c934629f",
   "metadata": {},
   "source": [
    "# Normalization Problem\n",
    "\n",
    "In this problem, a random 5x5 ndarray is generated and is to be normalized by using the functions .mean() and .std(). Accordingly, the first step is to import numpy as np to access the NumPy library, an expected output of a normalized generated random 5x5 ndarray will be created. Moreover, the normalized output is to be saved as a .npy."
   ]
  },
  {
   "cell_type": "markdown",
   "id": "d93bcd0b-8c5d-4773-b958-a61d2b43b8d4",
   "metadata": {},
   "source": [
    "The first step for this problem is to 'import numpy as np' to access the NumPy library."
   ]
  },
  {
   "cell_type": "code",
   "execution_count": 3,
   "id": "e87a92e2-c0ad-454b-93fa-faba865ed40b",
   "metadata": {},
   "outputs": [],
   "source": [
    "#import from library the usage of np to shorten numpy\n",
    "import numpy as np"
   ]
  },
  {
   "cell_type": "markdown",
   "id": "ce7ef0ab-8d1d-4367-9cdf-3d6829c3c785",
   "metadata": {},
   "source": [
    "In this part, a random 5x5 ndarray is generated and assigned to varaible X."
   ]
  },
  {
   "cell_type": "code",
   "execution_count": 5,
   "id": "ecd9c7b6-2ab7-4185-9254-7b228b223692",
   "metadata": {},
   "outputs": [],
   "source": [
    "#create random 5x5 ndarray and store to variable X\n",
    "X = np.random.random((5,5))"
   ]
  },
  {
   "cell_type": "markdown",
   "id": "5939d702-aa82-456f-b3d8-33efd4b53fc8",
   "metadata": {},
   "source": [
    "The variable X that stores the 5x5 ndarray is normalized in this part by centering and scaling. It is done by using X.mean() and X.std() to get the mean and standard deviation. To then normalized, the function (X - X_mean) / X_std to mimic the mathemical expression of normalizing is used and stored to X_normalized."
   ]
  },
  {
   "cell_type": "code",
   "execution_count": 7,
   "id": "133cbc25-18cb-40d1-99e2-febb30c474ba",
   "metadata": {},
   "outputs": [],
   "source": [
    "#centering and scaling\n",
    "X_mean = X.mean()\n",
    "X_std = X.std ()\n",
    "X_normalized = (X - X_mean) / X_std"
   ]
  },
  {
   "cell_type": "markdown",
   "id": "89b998f2-074b-43e2-86de-f84788ac7a60",
   "metadata": {},
   "source": [
    "As specified in the problem, it is instructed to save the normalized X as 'X_normalized.npy'. To do so, the function np.save() is called. The name of the .npy file is first specified then it is followed by a coma then the syntax to be stored on the .npy file."
   ]
  },
  {
   "cell_type": "code",
   "execution_count": 9,
   "id": "c644b742-ccd2-4ae0-a4d3-3274a0100203",
   "metadata": {},
   "outputs": [],
   "source": [
    "#saving normalized ndarray as X_normalized.npy\n",
    "np.save('X_normalized.npy', X_normalized)"
   ]
  },
  {
   "cell_type": "markdown",
   "id": "f00b0876-a196-495e-8d6f-0effa2efc96f",
   "metadata": {},
   "source": [
    "To see the ouput, the function print() is used. The 'X' and 'X_normalized' are both printed to compare the original and normalized X."
   ]
  },
  {
   "cell_type": "code",
   "execution_count": 11,
   "id": "3700419b-a488-45ca-90a8-00628bbcec8f",
   "metadata": {},
   "outputs": [
    {
     "name": "stdout",
     "output_type": "stream",
     "text": [
      "X: \n",
      " [[0.60525288 0.19564226 0.73801624 0.9124942  0.25246208]\n",
      " [0.62980311 0.01042742 0.01187921 0.02287182 0.28372236]\n",
      " [0.28307086 0.7892252  0.87957138 0.23894653 0.47061118]\n",
      " [0.75063013 0.66976158 0.68635756 0.30550205 0.32438295]\n",
      " [0.4792204  0.15398249 0.55038128 0.15315932 0.29977106]] \n",
      "\n",
      "X_normalized: \n",
      " [[ 0.65150082 -0.853072    1.13916427  1.7800529  -0.64436267]\n",
      " [ 0.74167819 -1.53339908 -1.5280664  -1.48768861 -0.52953808]\n",
      " [-0.53193117  1.32726393  1.65912154 -0.6940077   0.15693786]\n",
      " [ 1.18549737  0.88845274  0.94941276 -0.44953741 -0.38018448]\n",
      " [ 0.18856106 -1.00609573  0.44994764 -1.00911938 -0.47058835]]\n"
     ]
    }
   ],
   "source": [
    "#printing output for X and X_normalized\n",
    "print(\"X: \\n\", X, \"\\n\")\n",
    "print(\"X_normalized: \\n\", X_normalized)"
   ]
  },
  {
   "cell_type": "markdown",
   "id": "4903f897-136b-407b-b5ea-ae6b2ee66a56",
   "metadata": {},
   "source": [
    "# Divisible by 3 Problem\n",
    "\n",
    "In this problem, a 10x10 ndarray which are the squares of the first 100 positive integers is created. Afterwards the elements that are divisible by 3 is to be identified and saved as 'div_by_3.npy'. Functions such as 'np.arrange' and 'np.reshape' are used. The positive integers are then squared by using '** 2'. To then determine the elements that are divisible by 3, modulo was used. Therefore, the overall expected output of the problem is to determine which of the elements among the first 100 squared integers are divisible by 3."
   ]
  },
  {
   "cell_type": "markdown",
   "id": "6eb2df3c-d321-4151-a02d-d63dfd10186a",
   "metadata": {},
   "source": [
    "The first step for this problem is to 'import numpy as np' to access the NumPy library."
   ]
  },
  {
   "cell_type": "code",
   "execution_count": 14,
   "id": "68614757-b6e2-400a-be88-69da10cf9031",
   "metadata": {},
   "outputs": [],
   "source": [
    "#import from library the usage of np to shorten numpy\n",
    "import numpy as np"
   ]
  },
  {
   "cell_type": "markdown",
   "id": "59312fcf-5249-4a36-9d93-e466a511ff36",
   "metadata": {},
   "source": [
    "A ndarray, which are 1-100 is created and arranged. It is then reshape to a 10x10 array. Afterwards, each element is raised to 2 by using '** 2' and are stored to variable A."
   ]
  },
  {
   "cell_type": "code",
   "execution_count": 16,
   "id": "6629f3d6-d82e-406e-a73c-64d754b03722",
   "metadata": {},
   "outputs": [],
   "source": [
    "#create 10x10 ndarray which are the squares of the first 100 positive integers\n",
    "A = np.arange(1,101).reshape(10,10) ** 2"
   ]
  },
  {
   "cell_type": "markdown",
   "id": "086a96ae-4a53-4cd3-983c-6264ea6f6274",
   "metadata": {},
   "source": [
    "To determine the elements divisible by 3 in the first 100 squared integers, the elements in A should all equal to 0 when divided by 3 using modulo '%'. Afterwards, it is reshaped to a 3x11 array for better visualization and stored to the syntax 'div_by_3'."
   ]
  },
  {
   "cell_type": "code",
   "execution_count": 18,
   "id": "4a5dc5b0-3f7e-4ce5-a433-8073d0c1a123",
   "metadata": {},
   "outputs": [],
   "source": [
    "#determining elements that are divisiable by 3\n",
    "div_by_3 = A[A % 3 == 0].reshape(3,11)"
   ]
  },
  {
   "cell_type": "markdown",
   "id": "a3fe93f0-78b1-4a38-891b-7f314491a053",
   "metadata": {},
   "source": [
    "As specified in the problem, it is instructed to save the elements divisible by 3 as 'div_by_3.npy'. To do so, the function np.save() is called again. The name of the .npy file is first specified then it is followed by a coma then the syntax to be stored on the .npy file."
   ]
  },
  {
   "cell_type": "code",
   "execution_count": 20,
   "id": "bc086443-5118-48f8-88f5-8b660b8a6c4e",
   "metadata": {},
   "outputs": [],
   "source": [
    "#saving result as div_by_3.npy\n",
    "np.save('div_by_3.npy', div_by_3)"
   ]
  },
  {
   "cell_type": "markdown",
   "id": "52621137-3ddc-4832-8175-8d6851a4c9ff",
   "metadata": {},
   "source": [
    "To see the ouput, the function print() is used. The 'A' and 'div_by_3' are both printed to visualize which of the squared elements in A are divisible by 3 in div_by_three."
   ]
  },
  {
   "cell_type": "code",
   "execution_count": 22,
   "id": "f87aac37-8413-4b03-b87a-99c2b50e6ae5",
   "metadata": {},
   "outputs": [
    {
     "name": "stdout",
     "output_type": "stream",
     "text": [
      "A: \n",
      " [[    1     4     9    16    25    36    49    64    81   100]\n",
      " [  121   144   169   196   225   256   289   324   361   400]\n",
      " [  441   484   529   576   625   676   729   784   841   900]\n",
      " [  961  1024  1089  1156  1225  1296  1369  1444  1521  1600]\n",
      " [ 1681  1764  1849  1936  2025  2116  2209  2304  2401  2500]\n",
      " [ 2601  2704  2809  2916  3025  3136  3249  3364  3481  3600]\n",
      " [ 3721  3844  3969  4096  4225  4356  4489  4624  4761  4900]\n",
      " [ 5041  5184  5329  5476  5625  5776  5929  6084  6241  6400]\n",
      " [ 6561  6724  6889  7056  7225  7396  7569  7744  7921  8100]\n",
      " [ 8281  8464  8649  8836  9025  9216  9409  9604  9801 10000]] \n",
      "\n",
      "div_by_3: \n",
      " [[   9   36   81  144  225  324  441  576  729  900 1089]\n",
      " [1296 1521 1764 2025 2304 2601 2916 3249 3600 3969 4356]\n",
      " [4761 5184 5625 6084 6561 7056 7569 8100 8649 9216 9801]]\n"
     ]
    }
   ],
   "source": [
    "#print output for A and div_by_3\n",
    "print(\"A: \\n\", A, \"\\n\")\n",
    "print(\"div_by_3: \\n\", div_by_3)"
   ]
  }
 ],
 "metadata": {
  "kernelspec": {
   "display_name": "Python 3 (ipykernel)",
   "language": "python",
   "name": "python3"
  },
  "language_info": {
   "codemirror_mode": {
    "name": "ipython",
    "version": 3
   },
   "file_extension": ".py",
   "mimetype": "text/x-python",
   "name": "python",
   "nbconvert_exporter": "python",
   "pygments_lexer": "ipython3",
   "version": "3.12.4"
  }
 },
 "nbformat": 4,
 "nbformat_minor": 5
}
